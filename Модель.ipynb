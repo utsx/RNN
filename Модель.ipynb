{
 "cells": [
  {
   "cell_type": "code",
   "execution_count": null,
   "id": "d84c0d4a-4335-4b70-b4db-18b1b923545c",
   "metadata": {
    "tags": []
   },
   "outputs": [],
   "source": [
    "%pip install tensorrt"
   ]
  },
  {
   "cell_type": "code",
   "execution_count": 1,
   "id": "31b64549-2af2-47e5-aba2-6c86940f5e5e",
   "metadata": {
    "execution": {
     "iopub.execute_input": "2024-05-16T15:36:43.931929Z",
     "iopub.status.busy": "2024-05-16T15:36:43.931383Z",
     "iopub.status.idle": "2024-05-16T15:36:58.803210Z",
     "shell.execute_reply": "2024-05-16T15:36:58.802522Z",
     "shell.execute_reply.started": "2024-05-16T15:36:43.931904Z"
    },
    "tags": []
   },
   "outputs": [
    {
     "name": "stderr",
     "output_type": "stream",
     "text": [
      "2024-05-16 15:36:46.723473: I tensorflow/core/platform/cpu_feature_guard.cc:182] This TensorFlow binary is optimized to use available CPU instructions in performance-critical operations.\n",
      "To enable the following instructions: AVX2 FMA, in other operations, rebuild TensorFlow with the appropriate compiler flags.\n",
      "2024-05-16 15:36:50.438894: W tensorflow/compiler/tf2tensorrt/utils/py_utils.cc:38] TF-TRT Warning: Could not find TensorRT\n"
     ]
    }
   ],
   "source": [
    "from tensorflow import keras\n",
    "import os\n",
    "import io\n",
    "import gc\n",
    "import string\n",
    "import numpy as np\n",
    "from keras import backend as K\n",
    "from keras import layers, models\n",
    "from os import listdir\n",
    "import random\n",
    "from tensorflow.keras import losses\n",
    "from tensorflow.keras.optimizers import Adam\n",
    "from tensorflow.keras.preprocessing.text import Tokenizer\n",
    "from tensorflow.keras.models import Sequential\n",
    "from tensorflow.keras.layers import LSTM, Dense, Embedding"
   ]
  },
  {
   "cell_type": "code",
   "execution_count": 2,
   "id": "e2ad4d12-6d4b-478a-b56b-0bfc33610094",
   "metadata": {
    "execution": {
     "iopub.execute_input": "2024-05-16T15:39:47.169292Z",
     "iopub.status.busy": "2024-05-16T15:39:47.168484Z",
     "iopub.status.idle": "2024-05-16T15:39:47.186480Z",
     "shell.execute_reply": "2024-05-16T15:39:47.185905Z",
     "shell.execute_reply.started": "2024-05-16T15:39:47.169265Z"
    },
    "tags": []
   },
   "outputs": [],
   "source": [
    "def remove_files(dir):\n",
    "    files = listdir(dir)\n",
    "    for n, file in enumerate(files):\n",
    "        os.remove(dir + '/' + file)"
   ]
  },
  {
   "cell_type": "code",
   "execution_count": 3,
   "id": "ba05281f-ed20-4bef-90a4-a54a78492874",
   "metadata": {
    "execution": {
     "iopub.execute_input": "2024-05-16T15:39:47.916372Z",
     "iopub.status.busy": "2024-05-16T15:39:47.915579Z",
     "iopub.status.idle": "2024-05-16T15:39:47.930911Z",
     "shell.execute_reply": "2024-05-16T15:39:47.930244Z",
     "shell.execute_reply.started": "2024-05-16T15:39:47.916350Z"
    },
    "tags": []
   },
   "outputs": [],
   "source": [
    "def remove_chars_from_text(text, chars):\n",
    "    return \"\".join([ch for ch in text if ch in chars])"
   ]
  },
  {
   "cell_type": "code",
   "execution_count": 4,
   "id": "4c89f156-2d8d-41e2-9610-86cda13667f2",
   "metadata": {
    "execution": {
     "iopub.execute_input": "2024-05-16T15:39:48.660726Z",
     "iopub.status.busy": "2024-05-16T15:39:48.660159Z",
     "iopub.status.idle": "2024-05-16T15:39:48.687591Z",
     "shell.execute_reply": "2024-05-16T15:39:48.686676Z",
     "shell.execute_reply.started": "2024-05-16T15:39:48.660705Z"
    },
    "tags": []
   },
   "outputs": [],
   "source": [
    "def clear_text(text):\n",
    "    enabled_chars = 'абвгдежзийклмнопрстуфхцчшщьыъэюя!?., '\n",
    "    cleared = text.lower()\n",
    "    cleared = remove_chars_from_text(cleared, enabled_chars)\n",
    "    return cleared"
   ]
  },
  {
   "cell_type": "code",
   "execution_count": 5,
   "id": "e9cfd85a-c551-454d-93c9-98d59ee78feb",
   "metadata": {
    "execution": {
     "iopub.execute_input": "2024-05-16T15:39:49.859893Z",
     "iopub.status.busy": "2024-05-16T15:39:49.859437Z",
     "iopub.status.idle": "2024-05-16T15:39:49.883034Z",
     "shell.execute_reply": "2024-05-16T15:39:49.882430Z",
     "shell.execute_reply.started": "2024-05-16T15:39:49.859870Z"
    },
    "tags": []
   },
   "outputs": [],
   "source": [
    "input_dir = 'Пушкин'\n",
    "# remove_files(input_dir + '/.ipynb_checkpoints')\n",
    "# os.rmdir(input_dir + '/.ipynb_checkpoints')\n",
    "file_list = listdir(input_dir)\n",
    "datasets = list()\n",
    "for n, file in enumerate(file_list[:7]):\n",
    "    text = ''\n",
    "    with io.open(input_dir + '/' + file, mode='r', encoding='utf-8') as f:\n",
    "                try:\n",
    "                    text = f.read()\n",
    "                except Exception:\n",
    "                    print('Can not read file', f)\n",
    "    datasets.append(text)"
   ]
  },
  {
   "cell_type": "code",
   "execution_count": 7,
   "id": "083b51e5-f282-4f16-9f5a-36e8aad0fe90",
   "metadata": {
    "execution": {
     "iopub.execute_input": "2024-05-16T15:40:14.803832Z",
     "iopub.status.busy": "2024-05-16T15:40:14.803063Z",
     "iopub.status.idle": "2024-05-16T15:40:14.826487Z",
     "shell.execute_reply": "2024-05-16T15:40:14.825850Z",
     "shell.execute_reply.started": "2024-05-16T15:40:14.803802Z"
    },
    "tags": []
   },
   "outputs": [
    {
     "data": {
      "text/plain": [
       "7"
      ]
     },
     "execution_count": 7,
     "metadata": {},
     "output_type": "execute_result"
    }
   ],
   "source": [
    "X_train_text = [clear_text(text) for text in datasets]\n",
    "\n",
    "len(X_train_text)"
   ]
  },
  {
   "cell_type": "code",
   "execution_count": 8,
   "id": "ce38f393-7416-4881-a19a-1e0441040038",
   "metadata": {
    "execution": {
     "iopub.execute_input": "2024-05-16T15:40:16.320894Z",
     "iopub.status.busy": "2024-05-16T15:40:16.320344Z",
     "iopub.status.idle": "2024-05-16T15:40:16.355725Z",
     "shell.execute_reply": "2024-05-16T15:40:16.354963Z",
     "shell.execute_reply.started": "2024-05-16T15:40:16.320863Z"
    },
    "tags": []
   },
   "outputs": [],
   "source": [
    "from keras.preprocessing.text import Tokenizer\n",
    "\n",
    "tokenizer = Tokenizer(char_level=True)\n",
    "\n",
    "tokenizer.fit_on_texts(X_train_text)"
   ]
  },
  {
   "cell_type": "code",
   "execution_count": 9,
   "id": "003a897b-ef36-47bd-a6c7-1e0207eedd80",
   "metadata": {
    "execution": {
     "iopub.execute_input": "2024-05-16T15:40:18.673851Z",
     "iopub.status.busy": "2024-05-16T15:40:18.673547Z",
     "iopub.status.idle": "2024-05-16T15:40:18.683098Z",
     "shell.execute_reply": "2024-05-16T15:40:18.682473Z",
     "shell.execute_reply.started": "2024-05-16T15:40:18.673823Z"
    },
    "tags": []
   },
   "outputs": [
    {
     "name": "stdout",
     "output_type": "stream",
     "text": [
      "{' ': 1, 'о': 2, 'е': 3, 'а': 4, 'т': 5, 'и': 6, 'н': 7, 'с': 8, 'л': 9, 'в': 10, 'р': 11, 'д': 12, 'м': 13, 'к': 14, 'у': 15, ',': 16, 'п': 17, 'ь': 18, 'я': 19, 'б': 20, 'г': 21, 'ы': 22, 'з': 23, '.': 24, 'й': 25, 'ч': 26, 'ж': 27, 'ш': 28, 'х': 29, 'ц': 30, 'ю': 31, '?': 32, '!': 33, 'щ': 34, 'э': 35, 'ъ': 36, 'ф': 37}\n"
     ]
    }
   ],
   "source": [
    "print(tokenizer.word_index)"
   ]
  },
  {
   "cell_type": "code",
   "execution_count": 14,
   "id": "a0928ded-75c4-4035-962d-49b25e274f48",
   "metadata": {
    "execution": {
     "iopub.execute_input": "2024-05-16T15:40:26.422293Z",
     "iopub.status.busy": "2024-05-16T15:40:26.421230Z",
     "iopub.status.idle": "2024-05-16T15:40:27.054962Z",
     "shell.execute_reply": "2024-05-16T15:40:27.054368Z",
     "shell.execute_reply.started": "2024-05-16T15:40:26.422271Z"
    },
    "tags": []
   },
   "outputs": [
    {
     "name": "stdout",
     "output_type": "stream",
     "text": [
      "CPU times: user 604 ms, sys: 11.2 ms, total: 616 ms\n",
      "Wall time: 613 ms\n"
     ]
    },
    {
     "data": {
      "text/plain": [
       "((80956, 20, 1), (80956,))"
      ]
     },
     "execution_count": 14,
     "metadata": {},
     "output_type": "execute_result"
    }
   ],
   "source": [
    "%%time\n",
    "\n",
    "seq_length = 20\n",
    "X_train, Y_train = [], []\n",
    "\n",
    "for text in X_train_text:\n",
    "    for i in range(0, len(text) - seq_length):\n",
    "        inp_seq = text[i:i + seq_length]\n",
    "        X_train.append(inp_seq)\n",
    "        out_seq = text[i + seq_length]\n",
    "        Y_train.append(tokenizer.word_index[out_seq])\n",
    "\n",
    "X_train = tokenizer.texts_to_sequences(X_train)\n",
    "\n",
    "X_train, Y_train = np.array(X_train, dtype=np.int32).reshape(-1, seq_length,1), np.array(Y_train)\n",
    "\n",
    "X_train.shape, Y_train.shape"
   ]
  },
  {
   "cell_type": "code",
   "execution_count": 11,
   "id": "e5c19768-3cb7-4d78-be6c-a45b72fd38a7",
   "metadata": {
    "execution": {
     "iopub.execute_input": "2024-05-16T15:40:21.423769Z",
     "iopub.status.busy": "2024-05-16T15:40:21.423419Z",
     "iopub.status.idle": "2024-05-16T15:40:21.432213Z",
     "shell.execute_reply": "2024-05-16T15:40:21.431621Z",
     "shell.execute_reply.started": "2024-05-16T15:40:21.423724Z"
    },
    "tags": []
   },
   "outputs": [],
   "source": [
    "def random_idx():\n",
    "    random.seed(123)\n",
    "    return random.randint(0, len(X_train))"
   ]
  },
  {
   "cell_type": "code",
   "execution_count": 12,
   "id": "d2cd8065-5208-45d0-9f48-c7ccc94d16ac",
   "metadata": {
    "execution": {
     "iopub.execute_input": "2024-05-16T15:40:22.524097Z",
     "iopub.status.busy": "2024-05-16T15:40:22.523154Z",
     "iopub.status.idle": "2024-05-16T15:40:22.539911Z",
     "shell.execute_reply": "2024-05-16T15:40:22.539109Z",
     "shell.execute_reply.started": "2024-05-16T15:40:22.524074Z"
    },
    "tags": []
   },
   "outputs": [],
   "source": [
    "def get_initial_pattern_by_indx(idx : int):\n",
    "    return X_train[idx].flatten().tolist()"
   ]
  },
  {
   "cell_type": "code",
   "execution_count": 13,
   "id": "6dcde6c1-4d5a-4378-b65e-7dfeef3f6e15",
   "metadata": {
    "execution": {
     "iopub.execute_input": "2024-05-16T15:40:23.529720Z",
     "iopub.status.busy": "2024-05-16T15:40:23.529436Z",
     "iopub.status.idle": "2024-05-16T15:40:23.539895Z",
     "shell.execute_reply": "2024-05-16T15:40:23.539142Z",
     "shell.execute_reply.started": "2024-05-16T15:40:23.529700Z"
    },
    "tags": []
   },
   "outputs": [],
   "source": [
    "def get_text_from_indx(idx, array):\n",
    "    return \"\".join([tokenizer.index_word[idx] for idx in array]);"
   ]
  },
  {
   "cell_type": "code",
   "execution_count": 21,
   "id": "e7a7916a-923d-45bf-8ba9-f231e567e0d6",
   "metadata": {
    "execution": {
     "iopub.execute_input": "2024-05-16T15:46:05.938905Z",
     "iopub.status.busy": "2024-05-16T15:46:05.938364Z",
     "iopub.status.idle": "2024-05-16T15:46:05.978895Z",
     "shell.execute_reply": "2024-05-16T15:46:05.978041Z",
     "shell.execute_reply.started": "2024-05-16T15:46:05.938882Z"
    },
    "tags": []
   },
   "outputs": [],
   "source": [
    "def generate_ans():\n",
    "    ans = \"\"\n",
    "    idx = random_idx()\n",
    "    pattern = get_initial_pattern_by_indx(idx)\n",
    "    generated_text = []\n",
    "    ans = ans + \"Начальный текст : {}\".format(\"\".join([tokenizer.index_word[idx] for idx in pattern]))\n",
    "    for i in range(100):\n",
    "        X_batch = np.array(pattern, dtype=np.int32).reshape(1, seq_length)\n",
    "        preds = model.predict(X_batch)\n",
    "        predicted_index = preds.argmax(axis=-1)[0]\n",
    "        generated_text.append(predicted_index)\n",
    "        pattern.append(predicted_index)\n",
    "        pattern = pattern[1:]\n",
    "    ans = ans + \"\\nСгенерированный текст : {}\".format(\"\".join([tokenizer.index_word[idx] for idx in generated_text]))\n",
    "    print(ans)"
   ]
  },
  {
   "cell_type": "code",
   "execution_count": 16,
   "id": "f0ab375a-c791-4d96-80d6-9df910a996bf",
   "metadata": {
    "execution": {
     "iopub.execute_input": "2024-05-16T15:40:30.667469Z",
     "iopub.status.busy": "2024-05-16T15:40:30.666504Z",
     "iopub.status.idle": "2024-05-16T15:40:30.848871Z",
     "shell.execute_reply": "2024-05-16T15:40:30.848067Z",
     "shell.execute_reply.started": "2024-05-16T15:40:30.667440Z"
    },
    "tags": []
   },
   "outputs": [
    {
     "data": {
      "text/plain": [
       "48"
      ]
     },
     "execution_count": 16,
     "metadata": {},
     "output_type": "execute_result"
    }
   ],
   "source": [
    "gc.collect()"
   ]
  },
  {
   "cell_type": "code",
   "execution_count": 17,
   "id": "f79efd0f-4346-4f91-adaf-927044a60a6a",
   "metadata": {
    "execution": {
     "iopub.execute_input": "2024-05-16T15:40:32.242604Z",
     "iopub.status.busy": "2024-05-16T15:40:32.241789Z",
     "iopub.status.idle": "2024-05-16T15:43:47.051033Z",
     "shell.execute_reply": "2024-05-16T15:43:47.050242Z",
     "shell.execute_reply.started": "2024-05-16T15:40:32.242563Z"
    },
    "tags": []
   },
   "outputs": [
    {
     "name": "stderr",
     "output_type": "stream",
     "text": [
      "2024-05-16 15:43:45.553909: I tensorflow/core/common_runtime/gpu/gpu_device.cc:1635] Created device /job:localhost/replica:0/task:0/device:GPU:0 with 79262 MB memory:  -> device: 0, name: NVIDIA A100-SXM4-80GB, pci bus id: 0000:8c:00.0, compute capability: 8.0\n",
      "2024-05-16 15:43:46.809605: I tensorflow/core/common_runtime/executor.cc:1197] [/device:CPU:0] (DEBUG INFO) Executor start aborting (this does not indicate an error and you can ignore this message): INVALID_ARGUMENT: You must feed a value for placeholder tensor 'gradients/split_2_grad/concat/split_2/split_dim' with dtype int32\n",
      "\t [[{{node gradients/split_2_grad/concat/split_2/split_dim}}]]\n",
      "2024-05-16 15:43:46.812648: I tensorflow/core/common_runtime/executor.cc:1197] [/device:CPU:0] (DEBUG INFO) Executor start aborting (this does not indicate an error and you can ignore this message): INVALID_ARGUMENT: You must feed a value for placeholder tensor 'gradients/split_grad/concat/split/split_dim' with dtype int32\n",
      "\t [[{{node gradients/split_grad/concat/split/split_dim}}]]\n",
      "2024-05-16 15:43:46.814475: I tensorflow/core/common_runtime/executor.cc:1197] [/device:CPU:0] (DEBUG INFO) Executor start aborting (this does not indicate an error and you can ignore this message): INVALID_ARGUMENT: You must feed a value for placeholder tensor 'gradients/split_1_grad/concat/split_1/split_dim' with dtype int32\n",
      "\t [[{{node gradients/split_1_grad/concat/split_1/split_dim}}]]\n",
      "2024-05-16 15:43:46.996109: I tensorflow/core/common_runtime/executor.cc:1197] [/device:CPU:0] (DEBUG INFO) Executor start aborting (this does not indicate an error and you can ignore this message): INVALID_ARGUMENT: You must feed a value for placeholder tensor 'gradients/split_2_grad/concat/split_2/split_dim' with dtype int32\n",
      "\t [[{{node gradients/split_2_grad/concat/split_2/split_dim}}]]\n",
      "2024-05-16 15:43:46.997482: I tensorflow/core/common_runtime/executor.cc:1197] [/device:CPU:0] (DEBUG INFO) Executor start aborting (this does not indicate an error and you can ignore this message): INVALID_ARGUMENT: You must feed a value for placeholder tensor 'gradients/split_grad/concat/split/split_dim' with dtype int32\n",
      "\t [[{{node gradients/split_grad/concat/split/split_dim}}]]\n",
      "2024-05-16 15:43:46.999160: I tensorflow/core/common_runtime/executor.cc:1197] [/device:CPU:0] (DEBUG INFO) Executor start aborting (this does not indicate an error and you can ignore this message): INVALID_ARGUMENT: You must feed a value for placeholder tensor 'gradients/split_1_grad/concat/split_1/split_dim' with dtype int32\n",
      "\t [[{{node gradients/split_1_grad/concat/split_1/split_dim}}]]\n"
     ]
    },
    {
     "name": "stdout",
     "output_type": "stream",
     "text": [
      "Model: \"sequential\"\n",
      "_________________________________________________________________\n",
      " Layer (type)                Output Shape              Param #   \n",
      "=================================================================\n",
      " embedding (Embedding)       (None, 20, 20)            760       \n",
      "                                                                 \n",
      " lstm (LSTM)                 (None, 20, 256)           283648    \n",
      "                                                                 \n",
      " lstm_1 (LSTM)               (None, 256)               525312    \n",
      "                                                                 \n",
      " dense (Dense)               (None, 38)                9766      \n",
      "                                                                 \n",
      "=================================================================\n",
      "Total params: 819,486\n",
      "Trainable params: 819,486\n",
      "Non-trainable params: 0\n",
      "_________________________________________________________________\n"
     ]
    }
   ],
   "source": [
    "from tensorflow.keras.models import Sequential\n",
    "from tensorflow.keras.layers import LSTM, Dense, Embedding\n",
    "\n",
    "embed_len = 20\n",
    "lstm_out = 256\n",
    "\n",
    "model = Sequential([\n",
    "                    Embedding(len(tokenizer.word_index)+1, output_dim=embed_len, input_length=seq_length),\n",
    "                    LSTM(lstm_out, input_shape=(seq_length, 1), return_sequences=True),\n",
    "                    LSTM(lstm_out),\n",
    "                    Dense(len(tokenizer.word_index) + 1, activation=\"softmax\")\n",
    "                ])\n",
    "\n",
    "model.summary()"
   ]
  },
  {
   "cell_type": "code",
   "execution_count": 18,
   "id": "cd02cc7a-beb0-4773-9cc2-8ca8cea21fad",
   "metadata": {
    "execution": {
     "iopub.execute_input": "2024-05-16T15:45:34.611676Z",
     "iopub.status.busy": "2024-05-16T15:45:34.610989Z",
     "iopub.status.idle": "2024-05-16T15:45:34.637866Z",
     "shell.execute_reply": "2024-05-16T15:45:34.637173Z",
     "shell.execute_reply.started": "2024-05-16T15:45:34.611646Z"
    },
    "tags": []
   },
   "outputs": [],
   "source": [
    "model.compile(optimizer=Adam(learning_rate=0.001), loss=\"sparse_categorical_crossentropy\")"
   ]
  },
  {
   "cell_type": "code",
   "execution_count": 19,
   "id": "91c9f83a-7a42-401f-baf5-e5a241a4cfca",
   "metadata": {
    "execution": {
     "iopub.execute_input": "2024-05-16T15:45:35.848725Z",
     "iopub.status.busy": "2024-05-16T15:45:35.848359Z",
     "iopub.status.idle": "2024-05-16T15:45:46.045878Z",
     "shell.execute_reply": "2024-05-16T15:45:46.045076Z",
     "shell.execute_reply.started": "2024-05-16T15:45:35.848702Z"
    },
    "tags": []
   },
   "outputs": [
    {
     "name": "stdout",
     "output_type": "stream",
     "text": [
      "Epoch 1/10\n"
     ]
    },
    {
     "name": "stderr",
     "output_type": "stream",
     "text": [
      "2024-05-16 15:45:36.236372: I tensorflow/core/common_runtime/executor.cc:1197] [/device:CPU:0] (DEBUG INFO) Executor start aborting (this does not indicate an error and you can ignore this message): INVALID_ARGUMENT: You must feed a value for placeholder tensor 'gradients/split_2_grad/concat/split_2/split_dim' with dtype int32\n",
      "\t [[{{node gradients/split_2_grad/concat/split_2/split_dim}}]]\n",
      "2024-05-16 15:45:36.239320: I tensorflow/core/common_runtime/executor.cc:1197] [/device:CPU:0] (DEBUG INFO) Executor start aborting (this does not indicate an error and you can ignore this message): INVALID_ARGUMENT: You must feed a value for placeholder tensor 'gradients/split_grad/concat/split/split_dim' with dtype int32\n",
      "\t [[{{node gradients/split_grad/concat/split/split_dim}}]]\n",
      "2024-05-16 15:45:36.241764: I tensorflow/core/common_runtime/executor.cc:1197] [/device:CPU:0] (DEBUG INFO) Executor start aborting (this does not indicate an error and you can ignore this message): INVALID_ARGUMENT: You must feed a value for placeholder tensor 'gradients/split_1_grad/concat/split_1/split_dim' with dtype int32\n",
      "\t [[{{node gradients/split_1_grad/concat/split_1/split_dim}}]]\n",
      "2024-05-16 15:45:36.408290: I tensorflow/core/common_runtime/executor.cc:1197] [/device:CPU:0] (DEBUG INFO) Executor start aborting (this does not indicate an error and you can ignore this message): INVALID_ARGUMENT: You must feed a value for placeholder tensor 'gradients/split_2_grad/concat/split_2/split_dim' with dtype int32\n",
      "\t [[{{node gradients/split_2_grad/concat/split_2/split_dim}}]]\n",
      "2024-05-16 15:45:36.410020: I tensorflow/core/common_runtime/executor.cc:1197] [/device:CPU:0] (DEBUG INFO) Executor start aborting (this does not indicate an error and you can ignore this message): INVALID_ARGUMENT: You must feed a value for placeholder tensor 'gradients/split_grad/concat/split/split_dim' with dtype int32\n",
      "\t [[{{node gradients/split_grad/concat/split/split_dim}}]]\n",
      "2024-05-16 15:45:36.411885: I tensorflow/core/common_runtime/executor.cc:1197] [/device:CPU:0] (DEBUG INFO) Executor start aborting (this does not indicate an error and you can ignore this message): INVALID_ARGUMENT: You must feed a value for placeholder tensor 'gradients/split_1_grad/concat/split_1/split_dim' with dtype int32\n",
      "\t [[{{node gradients/split_1_grad/concat/split_1/split_dim}}]]\n",
      "2024-05-16 15:45:37.252164: I tensorflow/core/common_runtime/executor.cc:1197] [/device:CPU:0] (DEBUG INFO) Executor start aborting (this does not indicate an error and you can ignore this message): INVALID_ARGUMENT: You must feed a value for placeholder tensor 'gradients/split_2_grad/concat/split_2/split_dim' with dtype int32\n",
      "\t [[{{node gradients/split_2_grad/concat/split_2/split_dim}}]]\n",
      "2024-05-16 15:45:37.254907: I tensorflow/core/common_runtime/executor.cc:1197] [/device:CPU:0] (DEBUG INFO) Executor start aborting (this does not indicate an error and you can ignore this message): INVALID_ARGUMENT: You must feed a value for placeholder tensor 'gradients/split_grad/concat/split/split_dim' with dtype int32\n",
      "\t [[{{node gradients/split_grad/concat/split/split_dim}}]]\n",
      "2024-05-16 15:45:37.256798: I tensorflow/core/common_runtime/executor.cc:1197] [/device:CPU:0] (DEBUG INFO) Executor start aborting (this does not indicate an error and you can ignore this message): INVALID_ARGUMENT: You must feed a value for placeholder tensor 'gradients/split_1_grad/concat/split_1/split_dim' with dtype int32\n",
      "\t [[{{node gradients/split_1_grad/concat/split_1/split_dim}}]]\n",
      "2024-05-16 15:45:37.422882: I tensorflow/core/common_runtime/executor.cc:1197] [/device:CPU:0] (DEBUG INFO) Executor start aborting (this does not indicate an error and you can ignore this message): INVALID_ARGUMENT: You must feed a value for placeholder tensor 'gradients/split_2_grad/concat/split_2/split_dim' with dtype int32\n",
      "\t [[{{node gradients/split_2_grad/concat/split_2/split_dim}}]]\n",
      "2024-05-16 15:45:37.425588: I tensorflow/core/common_runtime/executor.cc:1197] [/device:CPU:0] (DEBUG INFO) Executor start aborting (this does not indicate an error and you can ignore this message): INVALID_ARGUMENT: You must feed a value for placeholder tensor 'gradients/split_grad/concat/split/split_dim' with dtype int32\n",
      "\t [[{{node gradients/split_grad/concat/split/split_dim}}]]\n",
      "2024-05-16 15:45:37.428403: I tensorflow/core/common_runtime/executor.cc:1197] [/device:CPU:0] (DEBUG INFO) Executor start aborting (this does not indicate an error and you can ignore this message): INVALID_ARGUMENT: You must feed a value for placeholder tensor 'gradients/split_1_grad/concat/split_1/split_dim' with dtype int32\n",
      "\t [[{{node gradients/split_1_grad/concat/split_1/split_dim}}]]\n",
      "2024-05-16 15:45:38.544825: I tensorflow/compiler/xla/stream_executor/cuda/cuda_dnn.cc:424] Loaded cuDNN version 8900\n",
      "2024-05-16 15:45:38.746565: I tensorflow/compiler/xla/stream_executor/cuda/cuda_blas.cc:637] TensorFloat-32 will be used for the matrix multiplication. This will only be logged once.\n",
      "2024-05-16 15:45:38.927521: I tensorflow/compiler/xla/service/service.cc:169] XLA service 0x7f3ee9bcd4a0 initialized for platform CUDA (this does not guarantee that XLA will be used). Devices:\n",
      "2024-05-16 15:45:38.927569: I tensorflow/compiler/xla/service/service.cc:177]   StreamExecutor device (0): NVIDIA A100-SXM4-80GB, Compute Capability 8.0\n",
      "2024-05-16 15:45:39.077540: I tensorflow/compiler/mlir/tensorflow/utils/dump_mlir_util.cc:269] disabling MLIR crash reproducer, set env var `MLIR_CRASH_REPRODUCER_DIRECTORY` to enable.\n",
      "2024-05-16 15:45:40.195749: I ./tensorflow/compiler/jit/device_compiler.h:180] Compiled cluster using XLA!  This line is logged at most once for the lifetime of the process.\n"
     ]
    },
    {
     "name": "stdout",
     "output_type": "stream",
     "text": [
      "80/80 [==============================] - 5s 11ms/step - loss: 3.1655\n",
      "Epoch 2/10\n",
      "80/80 [==============================] - 1s 6ms/step - loss: 3.1111\n",
      "Epoch 3/10\n",
      "80/80 [==============================] - 1s 6ms/step - loss: 2.9956\n",
      "Epoch 4/10\n",
      "80/80 [==============================] - 1s 6ms/step - loss: 2.7383\n",
      "Epoch 5/10\n",
      "80/80 [==============================] - 1s 8ms/step - loss: 2.5803\n",
      "Epoch 6/10\n",
      "80/80 [==============================] - 1s 6ms/step - loss: 2.5172\n",
      "Epoch 7/10\n",
      "80/80 [==============================] - 1s 7ms/step - loss: 2.4670\n",
      "Epoch 8/10\n",
      "80/80 [==============================] - 1s 7ms/step - loss: 2.4131\n",
      "Epoch 9/10\n",
      "80/80 [==============================] - 1s 7ms/step - loss: 2.3594\n",
      "Epoch 10/10\n",
      "80/80 [==============================] - 1s 6ms/step - loss: 2.3102\n"
     ]
    }
   ],
   "source": [
    "history = model.fit(X_train, Y_train, batch_size=1024, epochs=10)"
   ]
  },
  {
   "cell_type": "code",
   "execution_count": 22,
   "id": "7d6672ef-309b-4205-93ab-98897dade86d",
   "metadata": {
    "execution": {
     "iopub.execute_input": "2024-05-16T15:46:12.803914Z",
     "iopub.status.busy": "2024-05-16T15:46:12.803366Z",
     "iopub.status.idle": "2024-05-16T15:46:17.738402Z",
     "shell.execute_reply": "2024-05-16T15:46:17.737351Z",
     "shell.execute_reply.started": "2024-05-16T15:46:12.803891Z"
    },
    "tags": []
   },
   "outputs": [
    {
     "name": "stdout",
     "output_type": "stream",
     "text": [
      "1/1 [==============================] - 0s 22ms/step\n",
      "1/1 [==============================] - 0s 22ms/step\n",
      "1/1 [==============================] - 0s 20ms/step\n",
      "1/1 [==============================] - 0s 21ms/step\n",
      "1/1 [==============================] - 0s 19ms/step\n",
      "1/1 [==============================] - 0s 20ms/step\n",
      "1/1 [==============================] - 0s 19ms/step\n",
      "1/1 [==============================] - 0s 19ms/step\n",
      "1/1 [==============================] - 0s 20ms/step\n",
      "1/1 [==============================] - 0s 20ms/step\n",
      "1/1 [==============================] - 0s 21ms/step\n",
      "1/1 [==============================] - 0s 20ms/step\n",
      "1/1 [==============================] - 0s 20ms/step\n",
      "1/1 [==============================] - 0s 20ms/step\n",
      "1/1 [==============================] - 0s 19ms/step\n",
      "1/1 [==============================] - 0s 20ms/step\n",
      "1/1 [==============================] - 0s 20ms/step\n",
      "1/1 [==============================] - 0s 20ms/step\n",
      "1/1 [==============================] - 0s 21ms/step\n",
      "1/1 [==============================] - 0s 20ms/step\n",
      "1/1 [==============================] - 0s 22ms/step\n",
      "1/1 [==============================] - 0s 20ms/step\n",
      "1/1 [==============================] - 0s 20ms/step\n",
      "1/1 [==============================] - 0s 20ms/step\n",
      "1/1 [==============================] - 0s 20ms/step\n",
      "1/1 [==============================] - 0s 21ms/step\n",
      "1/1 [==============================] - 0s 20ms/step\n",
      "1/1 [==============================] - 0s 20ms/step\n",
      "1/1 [==============================] - 0s 19ms/step\n",
      "1/1 [==============================] - 0s 19ms/step\n",
      "1/1 [==============================] - 0s 19ms/step\n",
      "1/1 [==============================] - 0s 20ms/step\n",
      "1/1 [==============================] - 0s 40ms/step\n",
      "1/1 [==============================] - 0s 21ms/step\n",
      "1/1 [==============================] - 0s 19ms/step\n",
      "1/1 [==============================] - 0s 18ms/step\n",
      "1/1 [==============================] - 0s 20ms/step\n",
      "1/1 [==============================] - 0s 19ms/step\n",
      "1/1 [==============================] - 0s 21ms/step\n",
      "1/1 [==============================] - 0s 19ms/step\n",
      "1/1 [==============================] - 0s 19ms/step\n",
      "1/1 [==============================] - 0s 19ms/step\n",
      "1/1 [==============================] - 0s 19ms/step\n",
      "1/1 [==============================] - 0s 19ms/step\n",
      "1/1 [==============================] - 0s 21ms/step\n",
      "1/1 [==============================] - 0s 21ms/step\n",
      "1/1 [==============================] - 0s 19ms/step\n",
      "1/1 [==============================] - 0s 19ms/step\n",
      "1/1 [==============================] - 0s 19ms/step\n",
      "1/1 [==============================] - 0s 19ms/step\n",
      "1/1 [==============================] - 0s 20ms/step\n",
      "1/1 [==============================] - 0s 19ms/step\n",
      "1/1 [==============================] - 0s 19ms/step\n",
      "1/1 [==============================] - 0s 19ms/step\n",
      "1/1 [==============================] - 0s 20ms/step\n",
      "1/1 [==============================] - 0s 20ms/step\n",
      "1/1 [==============================] - 0s 19ms/step\n",
      "1/1 [==============================] - 0s 18ms/step\n",
      "1/1 [==============================] - 0s 20ms/step\n",
      "1/1 [==============================] - 0s 19ms/step\n",
      "1/1 [==============================] - 0s 19ms/step\n",
      "1/1 [==============================] - 0s 18ms/step\n",
      "1/1 [==============================] - 0s 19ms/step\n",
      "1/1 [==============================] - 0s 21ms/step\n",
      "1/1 [==============================] - 0s 21ms/step\n",
      "1/1 [==============================] - 0s 19ms/step\n",
      "1/1 [==============================] - 0s 19ms/step\n",
      "1/1 [==============================] - 0s 20ms/step\n",
      "1/1 [==============================] - 0s 19ms/step\n",
      "1/1 [==============================] - 0s 21ms/step\n",
      "1/1 [==============================] - 0s 20ms/step\n",
      "1/1 [==============================] - 0s 19ms/step\n",
      "1/1 [==============================] - 0s 20ms/step\n",
      "1/1 [==============================] - 0s 20ms/step\n",
      "1/1 [==============================] - 0s 20ms/step\n",
      "1/1 [==============================] - 0s 20ms/step\n",
      "1/1 [==============================] - 0s 19ms/step\n",
      "1/1 [==============================] - 0s 19ms/step\n",
      "1/1 [==============================] - 0s 18ms/step\n",
      "1/1 [==============================] - 0s 19ms/step\n",
      "1/1 [==============================] - 0s 20ms/step\n",
      "1/1 [==============================] - 0s 21ms/step\n",
      "1/1 [==============================] - 0s 20ms/step\n",
      "1/1 [==============================] - 0s 19ms/step\n",
      "1/1 [==============================] - 0s 18ms/step\n",
      "1/1 [==============================] - 0s 19ms/step\n",
      "1/1 [==============================] - 0s 21ms/step\n",
      "1/1 [==============================] - 0s 20ms/step\n",
      "1/1 [==============================] - 0s 19ms/step\n",
      "1/1 [==============================] - 0s 20ms/step\n",
      "1/1 [==============================] - 0s 23ms/step\n",
      "1/1 [==============================] - 0s 19ms/step\n",
      "1/1 [==============================] - 0s 20ms/step\n",
      "1/1 [==============================] - 0s 19ms/step\n",
      "1/1 [==============================] - 0s 19ms/step\n",
      "1/1 [==============================] - 0s 20ms/step\n",
      "1/1 [==============================] - 0s 20ms/step\n",
      "1/1 [==============================] - 0s 20ms/step\n",
      "1/1 [==============================] - 0s 20ms/step\n",
      "1/1 [==============================] - 0s 20ms/step\n",
      "Начальный текст :  любовалась и диву д\n",
      "Сгенерированный текст : ерет он бела постой пристала в тем постой пристала в тем постой пристала в тем постой пристала в тем\n"
     ]
    }
   ],
   "source": [
    "generate_ans()"
   ]
  },
  {
   "cell_type": "code",
   "execution_count": 23,
   "id": "e04929eb-b5cb-403e-9e29-6ba54a372cac",
   "metadata": {
    "execution": {
     "iopub.execute_input": "2024-05-16T15:46:43.859623Z",
     "iopub.status.busy": "2024-05-16T15:46:43.858913Z",
     "iopub.status.idle": "2024-05-16T15:46:43.992800Z",
     "shell.execute_reply": "2024-05-16T15:46:43.991954Z",
     "shell.execute_reply.started": "2024-05-16T15:46:43.859596Z"
    },
    "tags": []
   },
   "outputs": [
    {
     "data": {
      "image/png": "[encoded data removed]",
      "text/plain": [
       "<Figure size 432x288 with 1 Axes>"
      ]
     },
     "metadata": {
      "needs_background": "light"
     },
     "output_type": "display_data"
    }
   ],
   "source": [
    "import matplotlib.pyplot as plt\n",
    "\n",
    "plt.plot(history.history['loss'])\n",
    "plt.show()"
   ]
  },
  {
   "cell_type": "code",
   "execution_count": 24,
   "id": "53dfa781-0edc-416c-ae95-a1f9ef505968",
   "metadata": {
    "execution": {
     "iopub.execute_input": "2024-05-16T15:46:45.947949Z",
     "iopub.status.busy": "2024-05-16T15:46:45.947235Z",
     "iopub.status.idle": "2024-05-16T15:46:56.631563Z",
     "shell.execute_reply": "2024-05-16T15:46:56.630472Z",
     "shell.execute_reply.started": "2024-05-16T15:46:45.947919Z"
    },
    "tags": []
   },
   "outputs": [
    {
     "name": "stdout",
     "output_type": "stream",
     "text": [
      "Epoch 1/20\n",
      "80/80 [==============================] - 1s 7ms/step - loss: 2.2492\n",
      "Epoch 2/20\n",
      "80/80 [==============================] - 1s 6ms/step - loss: 2.2257\n",
      "Epoch 3/20\n",
      "80/80 [==============================] - 1s 6ms/step - loss: 2.2062\n",
      "Epoch 4/20\n",
      "80/80 [==============================] - 1s 8ms/step - loss: 2.1854\n",
      "Epoch 5/20\n",
      "80/80 [==============================] - 1s 6ms/step - loss: 2.1646\n",
      "Epoch 6/20\n",
      "80/80 [==============================] - 1s 6ms/step - loss: 2.1444\n",
      "Epoch 7/20\n",
      "80/80 [==============================] - 1s 6ms/step - loss: 2.1236\n",
      "Epoch 8/20\n",
      "80/80 [==============================] - 1s 7ms/step - loss: 2.1048\n",
      "Epoch 9/20\n",
      "80/80 [==============================] - 1s 7ms/step - loss: 2.0834\n",
      "Epoch 10/20\n",
      "80/80 [==============================] - 1s 6ms/step - loss: 2.0653\n",
      "Epoch 11/20\n",
      "80/80 [==============================] - 1s 6ms/step - loss: 2.0448\n",
      "Epoch 12/20\n",
      "80/80 [==============================] - 1s 6ms/step - loss: 2.0253\n",
      "Epoch 13/20\n",
      "80/80 [==============================] - 1s 6ms/step - loss: 2.0040\n",
      "Epoch 14/20\n",
      "80/80 [==============================] - 1s 7ms/step - loss: 1.9847\n",
      "Epoch 15/20\n",
      "80/80 [==============================] - 1s 7ms/step - loss: 1.9665\n",
      "Epoch 16/20\n",
      "80/80 [==============================] - 1s 7ms/step - loss: 1.9446\n",
      "Epoch 17/20\n",
      "80/80 [==============================] - 1s 7ms/step - loss: 1.9267\n",
      "Epoch 18/20\n",
      "80/80 [==============================] - 1s 7ms/step - loss: 1.9056\n",
      "Epoch 19/20\n",
      "80/80 [==============================] - 1s 6ms/step - loss: 1.8854\n",
      "Epoch 20/20\n",
      "80/80 [==============================] - 1s 7ms/step - loss: 1.8656\n"
     ]
    }
   ],
   "source": [
    "K.set_value(model.optimizer.learning_rate, 0.0003)\n",
    "history = model.fit(X_train, Y_train, batch_size=1024, epochs=20)"
   ]
  },
  {
   "cell_type": "code",
   "execution_count": 25,
   "id": "b60d37b2-b835-4816-af70-057be735d3f6",
   "metadata": {
    "execution": {
     "iopub.execute_input": "2024-05-16T15:47:20.029972Z",
     "iopub.status.busy": "2024-05-16T15:47:20.029303Z",
     "iopub.status.idle": "2024-05-16T15:47:25.221991Z",
     "shell.execute_reply": "2024-05-16T15:47:25.221188Z",
     "shell.execute_reply.started": "2024-05-16T15:47:20.029950Z"
    },
    "tags": []
   },
   "outputs": [
    {
     "name": "stdout",
     "output_type": "stream",
     "text": [
      "1/1 [==============================] - 0s 22ms/step\n",
      "1/1 [==============================] - 0s 20ms/step\n",
      "1/1 [==============================] - 0s 19ms/step\n",
      "1/1 [==============================] - 0s 19ms/step\n",
      "1/1 [==============================] - 0s 19ms/step\n",
      "1/1 [==============================] - 0s 19ms/step\n",
      "1/1 [==============================] - 0s 19ms/step\n",
      "1/1 [==============================] - 0s 19ms/step\n",
      "1/1 [==============================] - 0s 21ms/step\n",
      "1/1 [==============================] - 0s 20ms/step\n",
      "1/1 [==============================] - 0s 21ms/step\n",
      "1/1 [==============================] - 0s 19ms/step\n",
      "1/1 [==============================] - 0s 20ms/step\n",
      "1/1 [==============================] - 0s 18ms/step\n",
      "1/1 [==============================] - 0s 20ms/step\n",
      "1/1 [==============================] - 0s 45ms/step\n",
      "1/1 [==============================] - 0s 22ms/step\n",
      "1/1 [==============================] - 0s 19ms/step\n",
      "1/1 [==============================] - 0s 20ms/step\n",
      "1/1 [==============================] - 0s 20ms/step\n",
      "1/1 [==============================] - 0s 20ms/step\n",
      "1/1 [==============================] - 0s 21ms/step\n",
      "1/1 [==============================] - 0s 19ms/step\n",
      "1/1 [==============================] - 0s 19ms/step\n",
      "1/1 [==============================] - 0s 20ms/step\n",
      "1/1 [==============================] - 0s 19ms/step\n",
      "1/1 [==============================] - 0s 21ms/step\n",
      "1/1 [==============================] - 0s 20ms/step\n",
      "1/1 [==============================] - 0s 20ms/step\n",
      "1/1 [==============================] - 0s 21ms/step\n",
      "1/1 [==============================] - 0s 20ms/step\n",
      "1/1 [==============================] - 0s 20ms/step\n",
      "1/1 [==============================] - 0s 21ms/step\n",
      "1/1 [==============================] - 0s 19ms/step\n",
      "1/1 [==============================] - 0s 23ms/step\n",
      "1/1 [==============================] - 0s 19ms/step\n",
      "1/1 [==============================] - 0s 20ms/step\n",
      "1/1 [==============================] - 0s 18ms/step\n",
      "1/1 [==============================] - 0s 20ms/step\n",
      "1/1 [==============================] - 0s 18ms/step\n",
      "1/1 [==============================] - 0s 19ms/step\n",
      "1/1 [==============================] - 0s 20ms/step\n",
      "1/1 [==============================] - 0s 18ms/step\n",
      "1/1 [==============================] - 0s 20ms/step\n",
      "1/1 [==============================] - 0s 19ms/step\n",
      "1/1 [==============================] - 0s 19ms/step\n",
      "1/1 [==============================] - 0s 21ms/step\n",
      "1/1 [==============================] - 0s 20ms/step\n",
      "1/1 [==============================] - 0s 21ms/step\n",
      "1/1 [==============================] - 0s 19ms/step\n",
      "1/1 [==============================] - 0s 23ms/step\n",
      "1/1 [==============================] - 0s 20ms/step\n",
      "1/1 [==============================] - 0s 22ms/step\n",
      "1/1 [==============================] - 0s 21ms/step\n",
      "1/1 [==============================] - 0s 22ms/step\n",
      "1/1 [==============================] - 0s 22ms/step\n",
      "1/1 [==============================] - 0s 22ms/step\n",
      "1/1 [==============================] - 0s 22ms/step\n",
      "1/1 [==============================] - 0s 22ms/step\n",
      "1/1 [==============================] - 0s 21ms/step\n",
      "1/1 [==============================] - 0s 21ms/step\n",
      "1/1 [==============================] - 0s 20ms/step\n",
      "1/1 [==============================] - 0s 23ms/step\n",
      "1/1 [==============================] - 0s 21ms/step\n",
      "1/1 [==============================] - 0s 21ms/step\n",
      "1/1 [==============================] - 0s 21ms/step\n",
      "1/1 [==============================] - 0s 22ms/step\n",
      "1/1 [==============================] - 0s 21ms/step\n",
      "1/1 [==============================] - 0s 20ms/step\n",
      "1/1 [==============================] - 0s 20ms/step\n",
      "1/1 [==============================] - 0s 20ms/step\n",
      "1/1 [==============================] - 0s 20ms/step\n",
      "1/1 [==============================] - 0s 20ms/step\n",
      "1/1 [==============================] - 0s 20ms/step\n",
      "1/1 [==============================] - 0s 21ms/step\n",
      "1/1 [==============================] - 0s 21ms/step\n",
      "1/1 [==============================] - 0s 20ms/step\n",
      "1/1 [==============================] - 0s 19ms/step\n",
      "1/1 [==============================] - 0s 20ms/step\n",
      "1/1 [==============================] - 0s 20ms/step\n",
      "1/1 [==============================] - 0s 20ms/step\n",
      "1/1 [==============================] - 0s 21ms/step\n",
      "1/1 [==============================] - 0s 21ms/step\n",
      "1/1 [==============================] - 0s 20ms/step\n",
      "1/1 [==============================] - 0s 20ms/step\n",
      "1/1 [==============================] - 0s 19ms/step\n",
      "1/1 [==============================] - 0s 20ms/step\n",
      "1/1 [==============================] - 0s 20ms/step\n",
      "1/1 [==============================] - 0s 19ms/step\n",
      "1/1 [==============================] - 0s 19ms/step\n",
      "1/1 [==============================] - 0s 19ms/step\n",
      "1/1 [==============================] - 0s 20ms/step\n",
      "1/1 [==============================] - 0s 20ms/step\n",
      "1/1 [==============================] - 0s 19ms/step\n",
      "1/1 [==============================] - 0s 22ms/step\n",
      "1/1 [==============================] - 0s 19ms/step\n",
      "1/1 [==============================] - 0s 18ms/step\n",
      "1/1 [==============================] - 0s 18ms/step\n",
      "1/1 [==============================] - 0s 20ms/step\n",
      "1/1 [==============================] - 0s 19ms/step\n",
      "Начальный текст :  любовалась и диву д\n",
      "Сгенерированный текст : а страта так на свет и в том он и в свете же свет и сам то стол он с нам и в том он тебе долодой при\n"
     ]
    }
   ],
   "source": [
    "generate_ans()"
   ]
  },
  {
   "cell_type": "code",
   "execution_count": 26,
   "id": "38a21c3c-6ee2-423f-91f6-751160d4d3aa",
   "metadata": {
    "execution": {
     "iopub.execute_input": "2024-05-16T15:47:51.484298Z",
     "iopub.status.busy": "2024-05-16T15:47:51.483871Z",
     "iopub.status.idle": "2024-05-16T15:47:51.615966Z",
     "shell.execute_reply": "2024-05-16T15:47:51.615252Z",
     "shell.execute_reply.started": "2024-05-16T15:47:51.484273Z"
    },
    "tags": []
   },
   "outputs": [
    {
     "data": {
      "image/png": "[encoded data removed]",
      "text/plain": [
       "<Figure size 432x288 with 1 Axes>"
      ]
     },
     "metadata": {
      "needs_background": "light"
     },
     "output_type": "display_data"
    }
   ],
   "source": [
    "import matplotlib.pyplot as plt\n",
    "\n",
    "plt.plot(history.history['loss'])\n",
    "plt.show()"
   ]
  },
  {
   "cell_type": "code",
   "execution_count": 27,
   "id": "6bc143fb-2571-4e8f-9431-d8f95d0b4f7e",
   "metadata": {
    "execution": {
     "iopub.execute_input": "2024-05-16T15:47:54.255034Z",
     "iopub.status.busy": "2024-05-16T15:47:54.254476Z",
     "iopub.status.idle": "2024-05-16T15:48:04.912710Z",
     "shell.execute_reply": "2024-05-16T15:48:04.911867Z",
     "shell.execute_reply.started": "2024-05-16T15:47:54.255010Z"
    },
    "tags": []
   },
   "outputs": [
    {
     "name": "stdout",
     "output_type": "stream",
     "text": [
      "Epoch 1/20\n",
      "80/80 [==============================] - 1s 7ms/step - loss: 1.8351\n",
      "Epoch 2/20\n",
      "80/80 [==============================] - 1s 7ms/step - loss: 1.8253\n",
      "Epoch 3/20\n",
      "80/80 [==============================] - 1s 6ms/step - loss: 1.8176\n",
      "Epoch 4/20\n",
      "80/80 [==============================] - 1s 6ms/step - loss: 1.8105\n",
      "Epoch 5/20\n",
      "80/80 [==============================] - 1s 7ms/step - loss: 1.8026\n",
      "Epoch 6/20\n",
      "80/80 [==============================] - 1s 7ms/step - loss: 1.7950\n",
      "Epoch 7/20\n",
      "80/80 [==============================] - 1s 7ms/step - loss: 1.7881\n",
      "Epoch 8/20\n",
      "80/80 [==============================] - 1s 7ms/step - loss: 1.7806\n",
      "Epoch 9/20\n",
      "80/80 [==============================] - 1s 7ms/step - loss: 1.7735\n",
      "Epoch 10/20\n",
      "80/80 [==============================] - 1s 6ms/step - loss: 1.7658\n",
      "Epoch 11/20\n",
      "80/80 [==============================] - 1s 7ms/step - loss: 1.7589\n",
      "Epoch 12/20\n",
      "80/80 [==============================] - 1s 7ms/step - loss: 1.7513\n",
      "Epoch 13/20\n",
      "80/80 [==============================] - 1s 7ms/step - loss: 1.7439\n",
      "Epoch 14/20\n",
      "80/80 [==============================] - 1s 7ms/step - loss: 1.7372\n",
      "Epoch 15/20\n",
      "80/80 [==============================] - 1s 7ms/step - loss: 1.7296\n",
      "Epoch 16/20\n",
      "80/80 [==============================] - 1s 6ms/step - loss: 1.7224\n",
      "Epoch 17/20\n",
      "80/80 [==============================] - 1s 6ms/step - loss: 1.7153\n",
      "Epoch 18/20\n",
      "80/80 [==============================] - 1s 6ms/step - loss: 1.7078\n",
      "Epoch 19/20\n",
      "80/80 [==============================] - 1s 7ms/step - loss: 1.7004\n",
      "Epoch 20/20\n",
      "80/80 [==============================] - 1s 7ms/step - loss: 1.6933\n"
     ]
    }
   ],
   "source": [
    "K.set_value(model.optimizer.learning_rate, 0.0001)\n",
    "history = model.fit(X_train, Y_train, batch_size=1024, epochs=20)"
   ]
  },
  {
   "cell_type": "code",
   "execution_count": 28,
   "id": "155881e2-b950-4357-a8ca-480172f3e9f4",
   "metadata": {
    "execution": {
     "iopub.execute_input": "2024-05-16T15:48:54.952523Z",
     "iopub.status.busy": "2024-05-16T15:48:54.951525Z",
     "iopub.status.idle": "2024-05-16T15:48:59.818896Z",
     "shell.execute_reply": "2024-05-16T15:48:59.818125Z",
     "shell.execute_reply.started": "2024-05-16T15:48:54.952498Z"
    },
    "tags": []
   },
   "outputs": [
    {
     "name": "stdout",
     "output_type": "stream",
     "text": [
      "1/1 [==============================] - 0s 23ms/step\n",
      "1/1 [==============================] - 0s 21ms/step\n",
      "1/1 [==============================] - 0s 20ms/step\n",
      "1/1 [==============================] - 0s 20ms/step\n",
      "1/1 [==============================] - 0s 20ms/step\n",
      "1/1 [==============================] - 0s 21ms/step\n",
      "1/1 [==============================] - 0s 19ms/step\n",
      "1/1 [==============================] - 0s 20ms/step\n",
      "1/1 [==============================] - 0s 19ms/step\n",
      "1/1 [==============================] - 0s 19ms/step\n",
      "1/1 [==============================] - 0s 20ms/step\n",
      "1/1 [==============================] - 0s 20ms/step\n",
      "1/1 [==============================] - 0s 19ms/step\n",
      "1/1 [==============================] - 0s 20ms/step\n",
      "1/1 [==============================] - 0s 19ms/step\n",
      "1/1 [==============================] - 0s 19ms/step\n",
      "1/1 [==============================] - 0s 19ms/step\n",
      "1/1 [==============================] - 0s 20ms/step\n",
      "1/1 [==============================] - 0s 19ms/step\n",
      "1/1 [==============================] - 0s 20ms/step\n",
      "1/1 [==============================] - 0s 19ms/step\n",
      "1/1 [==============================] - 0s 19ms/step\n",
      "1/1 [==============================] - 0s 19ms/step\n",
      "1/1 [==============================] - 0s 19ms/step\n",
      "1/1 [==============================] - 0s 19ms/step\n",
      "1/1 [==============================] - 0s 18ms/step\n",
      "1/1 [==============================] - 0s 19ms/step\n",
      "1/1 [==============================] - 0s 19ms/step\n",
      "1/1 [==============================] - 0s 20ms/step\n",
      "1/1 [==============================] - 0s 19ms/step\n",
      "1/1 [==============================] - 0s 19ms/step\n",
      "1/1 [==============================] - 0s 19ms/step\n",
      "1/1 [==============================] - 0s 21ms/step\n",
      "1/1 [==============================] - 0s 19ms/step\n",
      "1/1 [==============================] - 0s 19ms/step\n",
      "1/1 [==============================] - 0s 19ms/step\n",
      "1/1 [==============================] - 0s 19ms/step\n",
      "1/1 [==============================] - 0s 18ms/step\n",
      "1/1 [==============================] - 0s 20ms/step\n",
      "1/1 [==============================] - 0s 20ms/step\n",
      "1/1 [==============================] - 0s 19ms/step\n",
      "1/1 [==============================] - 0s 19ms/step\n",
      "1/1 [==============================] - 0s 19ms/step\n",
      "1/1 [==============================] - 0s 19ms/step\n",
      "1/1 [==============================] - 0s 19ms/step\n",
      "1/1 [==============================] - 0s 19ms/step\n",
      "1/1 [==============================] - 0s 19ms/step\n",
      "1/1 [==============================] - 0s 20ms/step\n",
      "1/1 [==============================] - 0s 19ms/step\n",
      "1/1 [==============================] - 0s 20ms/step\n",
      "1/1 [==============================] - 0s 19ms/step\n",
      "1/1 [==============================] - 0s 18ms/step\n",
      "1/1 [==============================] - 0s 19ms/step\n",
      "1/1 [==============================] - 0s 20ms/step\n",
      "1/1 [==============================] - 0s 20ms/step\n",
      "1/1 [==============================] - 0s 20ms/step\n",
      "1/1 [==============================] - 0s 19ms/step\n",
      "1/1 [==============================] - 0s 19ms/step\n",
      "1/1 [==============================] - 0s 19ms/step\n",
      "1/1 [==============================] - 0s 40ms/step\n",
      "1/1 [==============================] - 0s 19ms/step\n",
      "1/1 [==============================] - 0s 20ms/step\n",
      "1/1 [==============================] - 0s 20ms/step\n",
      "1/1 [==============================] - 0s 19ms/step\n",
      "1/1 [==============================] - 0s 19ms/step\n",
      "1/1 [==============================] - 0s 20ms/step\n",
      "1/1 [==============================] - 0s 19ms/step\n",
      "1/1 [==============================] - 0s 19ms/step\n",
      "1/1 [==============================] - 0s 20ms/step\n",
      "1/1 [==============================] - 0s 19ms/step\n",
      "1/1 [==============================] - 0s 19ms/step\n",
      "1/1 [==============================] - 0s 20ms/step\n",
      "1/1 [==============================] - 0s 19ms/step\n",
      "1/1 [==============================] - 0s 19ms/step\n",
      "1/1 [==============================] - 0s 21ms/step\n",
      "1/1 [==============================] - 0s 21ms/step\n",
      "1/1 [==============================] - 0s 20ms/step\n",
      "1/1 [==============================] - 0s 20ms/step\n",
      "1/1 [==============================] - 0s 21ms/step\n",
      "1/1 [==============================] - 0s 19ms/step\n",
      "1/1 [==============================] - 0s 20ms/step\n",
      "1/1 [==============================] - 0s 19ms/step\n",
      "1/1 [==============================] - 0s 19ms/step\n",
      "1/1 [==============================] - 0s 20ms/step\n",
      "1/1 [==============================] - 0s 19ms/step\n",
      "1/1 [==============================] - 0s 20ms/step\n",
      "1/1 [==============================] - 0s 19ms/step\n",
      "1/1 [==============================] - 0s 19ms/step\n",
      "1/1 [==============================] - 0s 18ms/step\n",
      "1/1 [==============================] - 0s 19ms/step\n",
      "1/1 [==============================] - 0s 19ms/step\n",
      "1/1 [==============================] - 0s 19ms/step\n",
      "1/1 [==============================] - 0s 20ms/step\n",
      "1/1 [==============================] - 0s 19ms/step\n",
      "1/1 [==============================] - 0s 19ms/step\n",
      "1/1 [==============================] - 0s 19ms/step\n",
      "1/1 [==============================] - 0s 19ms/step\n",
      "1/1 [==============================] - 0s 19ms/step\n",
      "1/1 [==============================] - 0s 19ms/step\n",
      "1/1 [==============================] - 0s 20ms/step\n",
      "Начальный текст :  любовалась и диву д\n",
      "Сгенерированный текст : а страва стол он с ним и в том тем свет и в том он с слатом богостить, с нам он в гости он и слашит \n"
     ]
    }
   ],
   "source": [
    "generate_ans()"
   ]
  },
  {
   "cell_type": "code",
   "execution_count": 29,
   "id": "e181ace0-d60d-48b4-bb9e-51bf94d357a3",
   "metadata": {
    "execution": {
     "iopub.execute_input": "2024-05-16T15:51:08.613527Z",
     "iopub.status.busy": "2024-05-16T15:51:08.612670Z",
     "iopub.status.idle": "2024-05-16T15:51:08.747988Z",
     "shell.execute_reply": "2024-05-16T15:51:08.747261Z",
     "shell.execute_reply.started": "2024-05-16T15:51:08.613499Z"
    },
    "tags": []
   },
   "outputs": [
    {
     "data": {
      "image/png": "[encoded data removed]",
      "text/plain": [
       "<Figure size 432x288 with 1 Axes>"
      ]
     },
     "metadata": {
      "needs_background": "light"
     },
     "output_type": "display_data"
    }
   ],
   "source": [
    "import matplotlib.pyplot as plt\n",
    "\n",
    "plt.plot(history.history['loss'])\n",
    "plt.show()"
   ]
  },
  {
   "cell_type": "code",
   "execution_count": 27,
   "id": "1726a462-bd3b-4fd3-b82e-d94ebc981a40",
   "metadata": {
    "execution": {
     "iopub.execute_input": "2024-05-14T14:12:21.685481Z",
     "iopub.status.busy": "2024-05-14T14:12:21.685069Z",
     "iopub.status.idle": "2024-05-14T14:12:21.805500Z",
     "shell.execute_reply": "2024-05-14T14:12:21.804897Z",
     "shell.execute_reply.started": "2024-05-14T14:12:21.685462Z"
    },
    "tags": []
   },
   "outputs": [],
   "source": [
    "model.save('models/onlyPuskin.keras')"
   ]
  }
 ],
 "metadata": {
  "kernelspec": {
   "display_name": "DataSphere Kernel",
   "language": "python",
   "name": "python3"
  },
  "language_info": {
   "codemirror_mode": {
    "name": "ipython",
    "version": 3
   },
   "file_extension": ".py",
   "mimetype": "text/x-python",
   "name": "python",
   "nbconvert_exporter": "python",
   "pygments_lexer": "ipython3",
   "version": "3.10.12"
  }
 },
 "nbformat": 4,
 "nbformat_minor": 5
}
